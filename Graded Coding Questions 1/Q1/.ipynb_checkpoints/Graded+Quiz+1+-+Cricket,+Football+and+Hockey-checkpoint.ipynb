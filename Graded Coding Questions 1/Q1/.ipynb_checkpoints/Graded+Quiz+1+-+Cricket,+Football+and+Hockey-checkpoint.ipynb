{
 "cells": [
  {
   "cell_type": "markdown",
   "metadata": {},
   "source": [
    "In a school, there are total 100 students numbered from 1 to 100. You’re given three lists named ‘C’, ‘F’, and ‘H’, representing students who play cricket, football, and hockey, respectively. Based on this information, find out and print the following: \n",
    "- Students who play all the three sports\n",
    "- Students who play both cricket and football but don’t play hockey\n",
    "- Students who play exactly two of the sports\n",
    "- Students who don’t play any of the three sports"
   ]
  },
  {
   "cell_type": "code",
   "execution_count": 19,
   "metadata": {},
   "outputs": [],
   "source": [
    "C = [7, 8, 9, 18, 20, 21, 25, 26, 27, 31, 32, 34, 35, 36, 40, 43, 45, 47, 53, 58, 62, 67, 68, 71, 72, 74, 75, 76, 80, 81, 82, 90, 93, 95, 97, 99]\n",
    "F = [1, 7, 10, 13, 16, 22, 24, 29, 30, 32, 34, 39, 40, 43, 44, 48, 56, 60, 65, 68, 69, 73, 77, 78, 90, 93, 94, 95, 96]\n",
    "H = [5, 12, 14, 17, 20, 21, 22, 25, 28, 30, 37, 38, 39, 40, 42, 44, 57, 59, 61, 62, 67, 71, 75, 76, 77, 82, 83, 86, 87, 92, 94, 95]"
   ]
  },
  {
   "cell_type": "markdown",
   "metadata": {},
   "source": [
    "#### Q1. Which are the students who play all the three sports?\n",
    "- [22, 39]\n",
    "- [39, 82]\n",
    "- [40, 95]\n",
    "- [82, 94]"
   ]
  },
  {
   "cell_type": "code",
   "execution_count": 7,
   "metadata": {},
   "outputs": [
    {
     "data": {
      "text/plain": [
       "{40, 95}"
      ]
     },
     "execution_count": 7,
     "metadata": {},
     "output_type": "execute_result"
    }
   ],
   "source": [
    "C_set = set(C)\n",
    "F_set = set(F)\n",
    "H_set = set(H)\n",
    "set.intersection(C_set, F_set, H_set)"
   ]
  },
  {
   "cell_type": "markdown",
   "metadata": {},
   "source": [
    "#### Q2. Which are the players who play both cricket and hockey but don't play football?\n",
    "- [20, 21, 25, 62, 67, 71, 75, 76, 82]\n",
    "- [20, 21, 22, 25, 30, 32, 34]\n",
    "- [20, 21, 22, 25, 30, 32, 34, 39, 43, 44, 62]\n",
    "- [20, 21, 68, 71, 75, 76]"
   ]
  },
  {
   "cell_type": "code",
   "execution_count": 13,
   "metadata": {},
   "outputs": [
    {
     "name": "stdout",
     "output_type": "stream",
     "text": [
      "[67, 71, 40, 75, 76, 82, 20, 21, 25, 62, 95]\n",
      "[20, 21, 25, 62, 67, 71, 75, 76, 82]\n"
     ]
    }
   ],
   "source": [
    "c_h = set.intersection(C_set, H_set)\n",
    "c_h_list = list(c_h)\n",
    "#print(c_h_list)\n",
    "c_h_notF = []\n",
    "for i in c_h_list:\n",
    "    if i not in F:\n",
    "        c_h_notF.append(i)\n",
    "print(sorted(c_h_notF))"
   ]
  },
  {
   "cell_type": "markdown",
   "metadata": {},
   "source": [
    "#### Q3. How many players play exactly two sports?\n",
    "- 19\n",
    "- 20\n",
    "- 21\n",
    "- 22"
   ]
  },
  {
   "cell_type": "code",
   "execution_count": 26,
   "metadata": {},
   "outputs": [
    {
     "name": "stdout",
     "output_type": "stream",
     "text": [
      "{7: 2, 8: 1, 9: 1, 18: 1, 20: 3, 21: 3, 25: 3, 26: 1, 27: 1, 31: 1, 32: 2, 34: 2, 35: 1, 36: 1, 40: 4, 43: 2, 45: 1, 47: 1, 53: 1, 58: 1, 62: 3, 67: 3, 68: 2, 71: 3, 72: 1, 74: 1, 75: 3, 76: 3, 80: 1, 81: 1, 82: 3, 90: 2, 93: 2, 95: 4, 97: 1, 99: 1, 1: 1, 10: 1, 13: 1, 16: 1, 22: 3, 24: 1, 29: 1, 30: 3, 39: 3, 44: 3, 48: 1, 56: 1, 60: 1, 65: 1, 69: 1, 73: 1, 77: 3, 78: 1, 94: 3, 96: 1, 5: 2, 12: 2, 14: 2, 17: 2, 28: 2, 37: 2, 38: 2, 42: 2, 57: 2, 59: 2, 61: 2, 83: 2, 86: 2, 87: 2, 92: 2}\n"
     ]
    },
    {
     "data": {
      "text/plain": [
       "22"
      ]
     },
     "execution_count": 26,
     "metadata": {},
     "output_type": "execute_result"
    }
   ],
   "source": [
    "full_list = C+F+H\n",
    "d={}\n",
    "for i in full_list:\n",
    "    if i not in d.keys():\n",
    "        d[i]=1\n",
    "    else:\n",
    "        d[i]=d[i]+1\n",
    "\n",
    "    \n",
    "print(d)\n",
    "d1={}\n",
    "for i in d:\n",
    "    if d[i]==2:\n",
    "        d1[i] = 2\n",
    "\n",
    "len(d1)"
   ]
  },
  {
   "cell_type": "markdown",
   "metadata": {},
   "source": [
    "#### Q4. Which of these students do not play any of the sports? (More than one option may be correct)\n",
    "- 41\n",
    "- 48\n",
    "- 63\n",
    "- 85"
   ]
  },
  {
   "cell_type": "code",
   "execution_count": 27,
   "metadata": {},
   "outputs": [
    {
     "name": "stdout",
     "output_type": "stream",
     "text": [
      "41\n",
      "63\n",
      "85\n"
     ]
    }
   ],
   "source": [
    "ns_list = [41, 48, 63, 85]\n",
    "\n",
    "for i in ns_list:\n",
    "    if i not in full_list:\n",
    "        print(i)\n"
   ]
  },
  {
   "cell_type": "code",
   "execution_count": null,
   "metadata": {},
   "outputs": [],
   "source": []
  }
 ],
 "metadata": {
  "kernelspec": {
   "display_name": "Python 3",
   "language": "python",
   "name": "python3"
  },
  "language_info": {
   "codemirror_mode": {
    "name": "ipython",
    "version": 3
   },
   "file_extension": ".py",
   "mimetype": "text/x-python",
   "name": "python",
   "nbconvert_exporter": "python",
   "pygments_lexer": "ipython3",
   "version": "3.8.5"
  }
 },
 "nbformat": 4,
 "nbformat_minor": 2
}
