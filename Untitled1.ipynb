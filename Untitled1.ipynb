{
 "cells": [
  {
   "cell_type": "code",
   "execution_count": 2,
   "id": "c975891e",
   "metadata": {},
   "outputs": [
    {
     "ename": "NoSuchPathError",
     "evalue": "C:\\Users\\kunal\\OneDrive\\Desktop\\pythonProject\\Upgrad Python Projects\\https:\\github.com\\kunal-garg-ds\\upgrad_projects.git",
     "output_type": "error",
     "traceback": [
      "\u001b[1;31m---------------------------------------------------------------------------\u001b[0m",
      "\u001b[1;31mNoSuchPathError\u001b[0m                           Traceback (most recent call last)",
      "Cell \u001b[1;32mIn[2], line 31\u001b[0m\n\u001b[0;32m     28\u001b[0m source_dir \u001b[38;5;241m=\u001b[39m \u001b[38;5;124m'\u001b[39m\u001b[38;5;124mC:/Users/kunal/OneDrive/Desktop/pythonProject/Upgrad Python Projects/\u001b[39m\u001b[38;5;124m'\u001b[39m\n\u001b[0;32m     30\u001b[0m \u001b[38;5;66;03m# Initialize Git repository\u001b[39;00m\n\u001b[1;32m---> 31\u001b[0m repo \u001b[38;5;241m=\u001b[39m Repo(repo_path)\n\u001b[0;32m     33\u001b[0m \u001b[38;5;66;03m# Move files and folders to Git repository\u001b[39;00m\n\u001b[0;32m     34\u001b[0m move_files_to_git(source_dir, repo)\n",
      "File \u001b[1;32m~\\anaconda3\\Lib\\site-packages\\git\\repo\\base.py:236\u001b[0m, in \u001b[0;36mRepo.__init__\u001b[1;34m(self, path, odbt, search_parent_directories, expand_vars)\u001b[0m\n\u001b[0;32m    234\u001b[0m \u001b[38;5;28;01mif\u001b[39;00m epath \u001b[38;5;129;01mis\u001b[39;00m \u001b[38;5;129;01mnot\u001b[39;00m \u001b[38;5;28;01mNone\u001b[39;00m:\n\u001b[0;32m    235\u001b[0m     \u001b[38;5;28;01mif\u001b[39;00m \u001b[38;5;129;01mnot\u001b[39;00m os\u001b[38;5;241m.\u001b[39mpath\u001b[38;5;241m.\u001b[39mexists(epath):\n\u001b[1;32m--> 236\u001b[0m         \u001b[38;5;28;01mraise\u001b[39;00m NoSuchPathError(epath)\n\u001b[0;32m    238\u001b[0m \u001b[38;5;66;03m# Walk up the path to find the `.git` dir.\u001b[39;00m\n\u001b[0;32m    239\u001b[0m curpath \u001b[38;5;241m=\u001b[39m epath\n",
      "\u001b[1;31mNoSuchPathError\u001b[0m: C:\\Users\\kunal\\OneDrive\\Desktop\\pythonProject\\Upgrad Python Projects\\https:\\github.com\\kunal-garg-ds\\upgrad_projects.git"
     ]
    }
   ],
   "source": [
    "import os\n",
    "import shutil\n",
    "from git import Repo\n",
    "\n",
    "# Function to check if file size is less than 100 MB\n",
    "def is_file_less_than_100mb(file_path):\n",
    "    return os.path.getsize(file_path) < 100 * 1024 * 1024  # 100 MB in bytes\n",
    "\n",
    "# Function to move files and folders recursively\n",
    "def move_files_to_git(source_dir, repo):\n",
    "    for root, dirs, files in os.walk(source_dir):\n",
    "        for file_name in files:\n",
    "            file_path = os.path.join(root, file_name)\n",
    "            if is_file_less_than_100mb(file_path):\n",
    "                relative_path = os.path.relpath(file_path, source_dir)\n",
    "                target_path = os.path.join(repo.working_dir, relative_path)\n",
    "                os.makedirs(os.path.dirname(target_path), exist_ok=True)\n",
    "                shutil.copyfile(file_path, target_path)\n",
    "                repo.git.add(relative_path)\n",
    "                print(f\"Added {file_name} to Git repository.\")\n",
    "            else:\n",
    "                print(f\"Skipping {file_path} because its size is >= 100 MB.\")\n",
    "\n",
    "# Path to your local Git repository\n",
    "repo_path = 'C:\\Users\\kunal\\OneDrive\\Desktop\\pythonProject/test/Upgrad_Projects/'\n",
    "\n",
    "# Path to the directory containing files to move\n",
    "source_dir = 'C:/Users/kunal/OneDrive/Desktop/pythonProject/Upgrad Python Projects/'\n",
    "\n",
    "# Initialize Git repository\n",
    "repo = Repo(repo_path)\n",
    "\n",
    "# Move files and folders to Git repository\n",
    "move_files_to_git(source_dir, repo)\n",
    "\n",
    "# Commit and push changes to remote repository\n",
    "repo.git.commit('-m', 'Added files smaller than 100 MB')\n",
    "repo.git.push('origin', 'master')"
   ]
  },
  {
   "cell_type": "code",
   "execution_count": null,
   "id": "d08deb26",
   "metadata": {},
   "outputs": [],
   "source": []
  }
 ],
 "metadata": {
  "kernelspec": {
   "display_name": "Python 3 (ipykernel)",
   "language": "python",
   "name": "python3"
  },
  "language_info": {
   "codemirror_mode": {
    "name": "ipython",
    "version": 3
   },
   "file_extension": ".py",
   "mimetype": "text/x-python",
   "name": "python",
   "nbconvert_exporter": "python",
   "pygments_lexer": "ipython3",
   "version": "3.11.4"
  }
 },
 "nbformat": 4,
 "nbformat_minor": 5
}
