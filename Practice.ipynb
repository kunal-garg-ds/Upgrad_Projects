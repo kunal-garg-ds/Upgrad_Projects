{
 "cells": [
  {
   "cell_type": "code",
   "execution_count": 1,
   "id": "58df5fa3",
   "metadata": {},
   "outputs": [
    {
     "name": "stdout",
     "output_type": "stream",
     "text": [
      "(2, 5, 5, 2)\n"
     ]
    }
   ],
   "source": [
    "print((2,5)+(5,2))"
   ]
  },
  {
   "cell_type": "code",
   "execution_count": 2,
   "id": "f06a87c8",
   "metadata": {},
   "outputs": [
    {
     "data": {
      "text/plain": [
       "2.6666666666666665"
      ]
     },
     "execution_count": 2,
     "metadata": {},
     "output_type": "execute_result"
    }
   ],
   "source": [
    "8/3"
   ]
  },
  {
   "cell_type": "code",
   "execution_count": 3,
   "id": "964c6e0b",
   "metadata": {},
   "outputs": [
    {
     "data": {
      "text/plain": [
       "2"
      ]
     },
     "execution_count": 3,
     "metadata": {},
     "output_type": "execute_result"
    }
   ],
   "source": [
    "8//3"
   ]
  },
  {
   "cell_type": "code",
   "execution_count": 4,
   "id": "53cb5732",
   "metadata": {},
   "outputs": [
    {
     "name": "stdout",
     "output_type": "stream",
     "text": [
      "What flavour would you like chocolate\n",
      "What type of dessert would you like chocolate\n",
      "You have ordered chocolate-chocolate\n"
     ]
    }
   ],
   "source": [
    "flavour=input(\"What flavour would you like \")\n",
    "dessert_type=input(\"What type of dessert would you like \")\n",
    "print(\"You have ordered\", flavour+\"-\"+dessert_type)"
   ]
  },
  {
   "cell_type": "code",
   "execution_count": 12,
   "id": "7c36c598",
   "metadata": {},
   "outputs": [
    {
     "name": "stdout",
     "output_type": "stream",
     "text": [
      "            11   \n",
      "           10  10   \n",
      "          9  9  9   \n",
      "         8  8  8  8   \n",
      "        7  7  7  7  7   \n",
      "       6  6  6  6  6  6   \n",
      "      5  5  5  5  5  5  5   \n"
     ]
    }
   ],
   "source": [
    "size = 7\n",
    "\n",
    "m = (2 * size) - 2\n",
    "\n",
    "for i in range(0, size):\n",
    "\n",
    "    for j in range(0, m):\n",
    "\n",
    "        print(end=\" \")\n",
    "\n",
    "    m = m - 1 # decrementing m after each loop\n",
    "\n",
    "    for j in range(0, i + 1):\n",
    "\n",
    "        # printing full Triangle pyramid using stars\n",
    "\n",
    "        print(str(m)+' ', end=' ')\n",
    "\n",
    "    print(' ')"
   ]
  },
  {
   "cell_type": "code",
   "execution_count": 13,
   "id": "02d2f772",
   "metadata": {},
   "outputs": [
    {
     "name": "stdout",
     "output_type": "stream",
     "text": [
      "Enter year to check New Zealand made it to Finals in 20th century : 2019\n",
      "New Zealand made it to Finals\n"
     ]
    }
   ],
   "source": [
    "world_cups = {2019 : ['England', 'New Zealand'], 2015:[\"Australia\", \"New Zealand\"], 2011 : [\"India\", \"Sri Lanka\"], 2007: [\"Australia\", \"Sri Lanka\"], 2003: [\"Australia\", \"India\"]}\n",
    "\n",
    "year = int(input(\"Enter year to check New Zealand made it to Finals in 20th century : \"))\n",
    "\n",
    "if year in world_cups :\n",
    "    if \"New Zealand\" in world_cups[year] :\n",
    "        print(\"New Zealand made it to Finals\")\n",
    "    else:\n",
    "        print(\"New Zealand could not make it to Finals\")\n",
    "        \n",
    "else:\n",
    "    print(\"World cup wasnt played in\", year)"
   ]
  },
  {
   "cell_type": "code",
   "execution_count": 14,
   "id": "bcf6abc3",
   "metadata": {},
   "outputs": [
    {
     "name": "stdout",
     "output_type": "stream",
     "text": [
      "[2, 1, 2, 3, 4]\n",
      "[2, 6, 2, 3, 4]\n",
      "[2, 6, 15, 3, 4]\n",
      "[2, 6, 15, 4, 4]\n",
      "[2, 6, 15, 4, 8]\n"
     ]
    }
   ],
   "source": [
    "L1 = [10, 20, 30, 24, 18]\n",
    "L2 = [8, 14, 15, 20, 10]\n",
    "L3 = [0, 1, 2, 3, 4]\n",
    "\n",
    "for i in L3:\n",
    "    L3[i] = L1[i] - L2[i]\n",
    "    print(L3)"
   ]
  },
  {
   "cell_type": "code",
   "execution_count": 15,
   "id": "ca7aa760",
   "metadata": {},
   "outputs": [
    {
     "name": "stdout",
     "output_type": "stream",
     "text": [
      "{2: 4, 4: 16, 6: 36, 8: 64, 10: 100, 12: 144, 14: 196, 16: 256, 18: 324, 20: 400}\n"
     ]
    }
   ],
   "source": [
    "ordinary_dict ={}\n",
    "\n",
    "for i in range(2,21):\n",
    "    if i % 2 == 0:\n",
    "        ordinary_dict[i] = i**2\n",
    "\n",
    "print(ordinary_dict)"
   ]
  },
  {
   "cell_type": "code",
   "execution_count": 16,
   "id": "1bc92c10",
   "metadata": {},
   "outputs": [
    {
     "name": "stdout",
     "output_type": "stream",
     "text": [
      "[2, 6, 15, 4, 8]\n"
     ]
    }
   ],
   "source": [
    "def list_diff(list1,list2):\n",
    "    list3 = []\n",
    "    for  i in range(0, len(list1)):\n",
    "        list3.append(list1[i] - list2[i])\n",
    "    return list3\n",
    "\n",
    "L1 = [10, 20, 30, 24, 18]\n",
    "L2 = [8, 14, 15, 20, 10]\n",
    "\n",
    "print(list_diff(L1, L2))"
   ]
  },
  {
   "cell_type": "code",
   "execution_count": 17,
   "id": "19dd6321",
   "metadata": {},
   "outputs": [
    {
     "name": "stdout",
     "output_type": "stream",
     "text": [
      "[2, 4, 6, 8]\n"
     ]
    }
   ],
   "source": [
    "list_numbers = (1,2,3,4)\n",
    "sample_map = map(lambda x: x*2, list_numbers)\n",
    "print(list(sample_map))"
   ]
  },
  {
   "cell_type": "code",
   "execution_count": 19,
   "id": "e2d7fba3",
   "metadata": {},
   "outputs": [
    {
     "data": {
      "text/plain": [
       "map"
      ]
     },
     "execution_count": 19,
     "metadata": {},
     "output_type": "execute_result"
    }
   ],
   "source": [
    "type(sample_map)"
   ]
  },
  {
   "cell_type": "code",
   "execution_count": 20,
   "id": "99e95fab",
   "metadata": {},
   "outputs": [
    {
     "name": "stdout",
     "output_type": "stream",
     "text": [
      "[2, 4, 6, 8]\n"
     ]
    }
   ],
   "source": [
    "def multi(x):\n",
    "    return x*2\n",
    "\n",
    "list_numbers = [1,2,3,4]\n",
    "sample_map = map(multi, list_numbers)\n",
    "\n",
    "print(list(sample_map))"
   ]
  },
  {
   "cell_type": "code",
   "execution_count": 23,
   "id": "7852b8d6",
   "metadata": {},
   "outputs": [
    {
     "data": {
      "text/plain": [
       "[['Cornor', 19], ['Trump', 20]]"
      ]
     },
     "execution_count": 23,
     "metadata": {},
     "output_type": "execute_result"
    }
   ],
   "source": [
    "students_data = {1:['Sam', 15] , 2:['Rob',18], 3:['Kyle', 16], 4:['Cornor',19], 5:['Trump',20]}\n",
    "\n",
    "list(filter(lambda x : x[1] > 18, students_data.values()))"
   ]
  },
  {
   "cell_type": "code",
   "execution_count": 25,
   "id": "af82e552",
   "metadata": {},
   "outputs": [
    {
     "data": {
      "text/plain": [
       "'PaulTedTedu'"
      ]
     },
     "execution_count": 25,
     "metadata": {},
     "output_type": "execute_result"
    }
   ],
   "source": [
    "from functools import reduce\n",
    "list_1 = ['Paul','Ted','Tedu']\n",
    "reduce(lambda x,y: x + y,list_1)"
   ]
  },
  {
   "cell_type": "code",
   "execution_count": 30,
   "id": "a65dee83",
   "metadata": {},
   "outputs": [
    {
     "ename": "IndentationError",
     "evalue": "unindent does not match any outer indentation level (<tokenize>, line 4)",
     "output_type": "error",
     "traceback": [
      "\u001b[1;36m  File \u001b[1;32m<tokenize>:4\u001b[1;36m\u001b[0m\n\u001b[1;33m    print(my_func(1,2,3,4,5))\u001b[0m\n\u001b[1;37m    ^\u001b[0m\n\u001b[1;31mIndentationError\u001b[0m\u001b[1;31m:\u001b[0m unindent does not match any outer indentation level\n"
     ]
    }
   ],
   "source": [
    "def my_func(*args):\n",
    "    return(sum(args))\n",
    "    \n",
    " print(my_func(1,2,3,4,5))\n",
    "print(my_func(6,7,8))"
   ]
  },
  {
   "cell_type": "code",
   "execution_count": 32,
   "id": "0f2f3ead",
   "metadata": {},
   "outputs": [
    {
     "name": "stdout",
     "output_type": "stream",
     "text": [
      "[1, 8, 27, 64]\n"
     ]
    }
   ],
   "source": [
    "L =[1,2,3,4]\n",
    "def cube_func(n):\n",
    "    return n**3\n",
    "print(list(map(cube_func,L)))"
   ]
  },
  {
   "cell_type": "code",
   "execution_count": 33,
   "id": "ebb3442e",
   "metadata": {},
   "outputs": [
    {
     "name": "stdout",
     "output_type": "stream",
     "text": [
      "['L', 'e', 'a', 'r', 'n']\n"
     ]
    }
   ],
   "source": [
    "def split(word):\n",
    "    return list(word)\n",
    "word = 'Learn'\n",
    "print(split(word))"
   ]
  },
  {
   "cell_type": "code",
   "execution_count": 34,
   "id": "59e4e7b8",
   "metadata": {},
   "outputs": [
    {
     "data": {
      "text/plain": [
       "['L', 'e', 'a', 'r', 'n']"
      ]
     },
     "execution_count": 34,
     "metadata": {},
     "output_type": "execute_result"
    }
   ],
   "source": [
    "[ch for ch in 'Learn']"
   ]
  },
  {
   "cell_type": "code",
   "execution_count": 35,
   "id": "31ec1266",
   "metadata": {},
   "outputs": [
    {
     "name": "stdout",
     "output_type": "stream",
     "text": [
      "['L', 'e', 'a', 'r', 'n']\n"
     ]
    }
   ],
   "source": [
    "chars =[]\n",
    "\n",
    "for char in 'Learn':\n",
    "    chars.append(char)\n",
    "    \n",
    "print(chars)"
   ]
  },
  {
   "cell_type": "code",
   "execution_count": 38,
   "id": "e265bcca",
   "metadata": {},
   "outputs": [
    {
     "name": "stdout",
     "output_type": "stream",
     "text": [
      "b\n"
     ]
    }
   ],
   "source": [
    "a = True\n",
    "b=False\n",
    "c=True\n",
    "\n",
    "if not a or b:\n",
    "    print (\"a\")\n",
    "elif not a or not b and c:\n",
    "    print (\"b\")\n",
    "elif not a or b or not b and a:\n",
    "    print (\"c\")\n",
    "else:\n",
    "    print (\"d\")"
   ]
  },
  {
   "cell_type": "code",
   "execution_count": 39,
   "id": "5433183b",
   "metadata": {},
   "outputs": [
    {
     "data": {
      "text/plain": [
       "1     2\n",
       "2     4\n",
       "4     8\n",
       "5    10\n",
       "dtype: int64"
      ]
     },
     "execution_count": 39,
     "metadata": {},
     "output_type": "execute_result"
    }
   ],
   "source": [
    "import pandas as pd\n",
    "\n",
    "S1=pd.Series([0,2,4,6,8,10,12])\n",
    "S2 = pd.Series([0,3,6,9,12,15])\n",
    "\n",
    "S1[~S1.isin(S2)]"
   ]
  },
  {
   "cell_type": "code",
   "execution_count": 42,
   "id": "b3c77dbe",
   "metadata": {},
   "outputs": [
    {
     "data": {
      "text/html": [
       "<div>\n",
       "<style scoped>\n",
       "    .dataframe tbody tr th:only-of-type {\n",
       "        vertical-align: middle;\n",
       "    }\n",
       "\n",
       "    .dataframe tbody tr th {\n",
       "        vertical-align: top;\n",
       "    }\n",
       "\n",
       "    .dataframe thead th {\n",
       "        text-align: right;\n",
       "    }\n",
       "</style>\n",
       "<table border=\"1\" class=\"dataframe\">\n",
       "  <thead>\n",
       "    <tr style=\"text-align: right;\">\n",
       "      <th></th>\n",
       "      <th>Name</th>\n",
       "      <th>Age</th>\n",
       "      <th>Gender</th>\n",
       "      <th>BG</th>\n",
       "      <th>Height</th>\n",
       "    </tr>\n",
       "  </thead>\n",
       "  <tbody>\n",
       "    <tr>\n",
       "      <th>0</th>\n",
       "      <td>A</td>\n",
       "      <td>1</td>\n",
       "      <td>M</td>\n",
       "      <td>A</td>\n",
       "      <td>123</td>\n",
       "    </tr>\n",
       "    <tr>\n",
       "      <th>1</th>\n",
       "      <td>B</td>\n",
       "      <td>2</td>\n",
       "      <td>F</td>\n",
       "      <td>B</td>\n",
       "      <td>234</td>\n",
       "    </tr>\n",
       "    <tr>\n",
       "      <th>2</th>\n",
       "      <td>C</td>\n",
       "      <td>3</td>\n",
       "      <td>M</td>\n",
       "      <td>O</td>\n",
       "      <td>345</td>\n",
       "    </tr>\n",
       "    <tr>\n",
       "      <th>3</th>\n",
       "      <td>D</td>\n",
       "      <td>4</td>\n",
       "      <td>F</td>\n",
       "      <td>AB</td>\n",
       "      <td>456</td>\n",
       "    </tr>\n",
       "  </tbody>\n",
       "</table>\n",
       "</div>"
      ],
      "text/plain": [
       "  Name  Age Gender  BG  Height\n",
       "0    A    1      M   A     123\n",
       "1    B    2      F   B     234\n",
       "2    C    3      M   O     345\n",
       "3    D    4      F  AB     456"
      ]
     },
     "execution_count": 42,
     "metadata": {},
     "output_type": "execute_result"
    }
   ],
   "source": [
    "df1 = pd.DataFrame({'Name':[\"A\",\"B\",\"C\",\"D\"],'Age':[1,2,3,4],'Gender':['M','F','M','F']})\n",
    "df2 = pd.DataFrame({\"BG\":['A','B','O','AB'],'Height':[123,234,345,456]})\n",
    "\n",
    "pd.concat([df1,df2],axis=1)"
   ]
  },
  {
   "cell_type": "code",
   "execution_count": 43,
   "id": "22d401e5",
   "metadata": {},
   "outputs": [],
   "source": [
    "import numpy as np"
   ]
  },
  {
   "cell_type": "code",
   "execution_count": 44,
   "id": "d39b2b67",
   "metadata": {},
   "outputs": [],
   "source": [
    "L1=[1,2,3]\n",
    "L2 = [4,5,6]"
   ]
  },
  {
   "cell_type": "code",
   "execution_count": 47,
   "id": "64bd88a5",
   "metadata": {},
   "outputs": [
    {
     "data": {
      "text/plain": [
       "array([5, 7, 9])"
      ]
     },
     "execution_count": 47,
     "metadata": {},
     "output_type": "execute_result"
    }
   ],
   "source": [
    "np.array(L1)+np.array(L2)"
   ]
  },
  {
   "cell_type": "code",
   "execution_count": 48,
   "id": "b25e5437",
   "metadata": {},
   "outputs": [
    {
     "ename": "AttributeError",
     "evalue": "module 'pandas' has no attribute 'asarray'",
     "output_type": "error",
     "traceback": [
      "\u001b[1;31m---------------------------------------------------------------------------\u001b[0m",
      "\u001b[1;31mAttributeError\u001b[0m                            Traceback (most recent call last)",
      "Cell \u001b[1;32mIn[48], line 1\u001b[0m\n\u001b[1;32m----> 1\u001b[0m \u001b[43mpd\u001b[49m\u001b[38;5;241;43m.\u001b[39;49m\u001b[43masarray\u001b[49m(L1)\u001b[38;5;241m+\u001b[39mpd\u001b[38;5;241m.\u001b[39masarray(L2)\n",
      "File \u001b[1;32mC:\\ProgramData\\anaconda3\\lib\\site-packages\\pandas\\__init__.py:264\u001b[0m, in \u001b[0;36m__getattr__\u001b[1;34m(name)\u001b[0m\n\u001b[0;32m    260\u001b[0m     \u001b[38;5;28;01mfrom\u001b[39;00m \u001b[38;5;21;01mpandas\u001b[39;00m\u001b[38;5;21;01m.\u001b[39;00m\u001b[38;5;21;01mcore\u001b[39;00m\u001b[38;5;21;01m.\u001b[39;00m\u001b[38;5;21;01marrays\u001b[39;00m\u001b[38;5;21;01m.\u001b[39;00m\u001b[38;5;21;01msparse\u001b[39;00m \u001b[38;5;28;01mimport\u001b[39;00m SparseArray \u001b[38;5;28;01mas\u001b[39;00m _SparseArray\n\u001b[0;32m    262\u001b[0m     \u001b[38;5;28;01mreturn\u001b[39;00m _SparseArray\n\u001b[1;32m--> 264\u001b[0m \u001b[38;5;28;01mraise\u001b[39;00m \u001b[38;5;167;01mAttributeError\u001b[39;00m(\u001b[38;5;124mf\u001b[39m\u001b[38;5;124m\"\u001b[39m\u001b[38;5;124mmodule \u001b[39m\u001b[38;5;124m'\u001b[39m\u001b[38;5;124mpandas\u001b[39m\u001b[38;5;124m'\u001b[39m\u001b[38;5;124m has no attribute \u001b[39m\u001b[38;5;124m'\u001b[39m\u001b[38;5;132;01m{\u001b[39;00mname\u001b[38;5;132;01m}\u001b[39;00m\u001b[38;5;124m'\u001b[39m\u001b[38;5;124m\"\u001b[39m)\n",
      "\u001b[1;31mAttributeError\u001b[0m: module 'pandas' has no attribute 'asarray'"
     ]
    }
   ],
   "source": [
    "pd.asarray(L1)+pd.asarray(L2)"
   ]
  },
  {
   "cell_type": "code",
   "execution_count": 51,
   "id": "9d521dbd",
   "metadata": {},
   "outputs": [
    {
     "data": {
      "text/html": [
       "<div>\n",
       "<style scoped>\n",
       "    .dataframe tbody tr th:only-of-type {\n",
       "        vertical-align: middle;\n",
       "    }\n",
       "\n",
       "    .dataframe tbody tr th {\n",
       "        vertical-align: top;\n",
       "    }\n",
       "\n",
       "    .dataframe thead th {\n",
       "        text-align: right;\n",
       "    }\n",
       "</style>\n",
       "<table border=\"1\" class=\"dataframe\">\n",
       "  <thead>\n",
       "    <tr style=\"text-align: right;\">\n",
       "      <th></th>\n",
       "      <th>Name</th>\n",
       "      <th>Age</th>\n",
       "      <th>Gender</th>\n",
       "    </tr>\n",
       "  </thead>\n",
       "  <tbody>\n",
       "    <tr>\n",
       "      <th>3</th>\n",
       "      <td>D</td>\n",
       "      <td>4</td>\n",
       "      <td>F</td>\n",
       "    </tr>\n",
       "  </tbody>\n",
       "</table>\n",
       "</div>"
      ],
      "text/plain": [
       "  Name  Age Gender\n",
       "3    D    4      F"
      ]
     },
     "execution_count": 51,
     "metadata": {},
     "output_type": "execute_result"
    }
   ],
   "source": [
    "df1.iloc[[3],[0,1,2]]"
   ]
  },
  {
   "cell_type": "code",
   "execution_count": 57,
   "id": "908a38c7",
   "metadata": {},
   "outputs": [
    {
     "name": "stdout",
     "output_type": "stream",
     "text": [
      "{'reetesh': 294.0, 'sumit': 126.0}\n"
     ]
    }
   ],
   "source": [
    "items_dict = {\"chicken\":300,\"dosa\":120}\n",
    "\n",
    "bill = sum(items_dict.values())\n",
    "\n",
    "print({\"reetesh\":bill*.7,\"sumit\":bill*0.3})"
   ]
  },
  {
   "cell_type": "code",
   "execution_count": 59,
   "id": "c10a4fd4",
   "metadata": {},
   "outputs": [],
   "source": [
    "from sklearn.metrics import precision_recall_curve"
   ]
  },
  {
   "cell_type": "code",
   "execution_count": 61,
   "id": "a0d40c8f",
   "metadata": {},
   "outputs": [],
   "source": [
    "?precision_recall_curve"
   ]
  },
  {
   "cell_type": "code",
   "execution_count": 62,
   "id": "596f1704",
   "metadata": {},
   "outputs": [
    {
     "data": {
      "text/plain": [
       "array([[ 1.66666667, -1.        ],\n",
       "       [ 1.33333333, -1.        ]])"
      ]
     },
     "execution_count": 62,
     "metadata": {},
     "output_type": "execute_result"
    }
   ],
   "source": [
    "import numpy as np\n",
    "\n",
    "np.linalg.inv([[3,-3],[4,-5]])"
   ]
  },
  {
   "cell_type": "code",
   "execution_count": null,
   "id": "e7b3288c",
   "metadata": {},
   "outputs": [],
   "source": []
  }
 ],
 "metadata": {
  "kernelspec": {
   "display_name": "Python 3 (ipykernel)",
   "language": "python",
   "name": "python3"
  },
  "language_info": {
   "codemirror_mode": {
    "name": "ipython",
    "version": 3
   },
   "file_extension": ".py",
   "mimetype": "text/x-python",
   "name": "python",
   "nbconvert_exporter": "python",
   "pygments_lexer": "ipython3",
   "version": "3.10.9"
  }
 },
 "nbformat": 4,
 "nbformat_minor": 5
}
